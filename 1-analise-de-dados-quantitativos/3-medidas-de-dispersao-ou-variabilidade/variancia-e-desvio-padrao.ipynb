{
 "cells": [
  {
   "cell_type": "markdown",
   "id": "a7a5291c-8922-4005-9393-9daa9c595315",
   "metadata": {},
   "source": [
    "# Variância e desvio-padrão\n",
    "\n",
    "&rarr; Objetivo: Compreender como os dados estão espalhados em torno da média.\n",
    "\n",
    "## Definição do Desvio Quadrático Total ($DQ$)\n",
    "\n",
    "$DQ = \\sum_{i=1}^{n}(x_{i} - \\bar{x})^2$, onde:\n",
    "\n",
    "- $x_i$ = elemento do conjunto;\n",
    "- $\\bar{x}$ = média do conjunto\n",
    "\n",
    "## Variância ($S^2$)\n",
    "\n",
    "Variância é o **desvio quadrático médio** e para calcularmos ela devemos considerar \n",
    "se:\n",
    "\n",
    "1. Dispomos de todos os dados que temos interesse em analisar, ou seja, toda a\n",
    "   **população**; \n",
    "2. Os dados fornecidos correspondem apenas a uma **amostra** dos dados totais de\n",
    "   interesse;\n",
    "3. Distinguir se os dados estão ou não agrupados.\n",
    "\n",
    "### Dados Não Agrupados\n",
    "\n",
    "#### População\n",
    "\n",
    "$\n",
    "S^2 = \\frac{1}{n} * \\sum_{i=1}^{n}(x_{i} - \\bar{x})^2 \n",
    "= \\frac{1}{n} * (\\sum_{i=1}^{n}(x_{i})^2 - \\frac{(\\sum_{i=1}^{n}x_i)^2}{n})\n",
    "$\n",
    "\n",
    "Obs: podemos tanto fazer o cálculo da média dos dados para usar a primeira formula\n",
    "quanto podemos fazer o cálculo apenas utilizando o quadrado soma dos dados e o\n",
    "tamanho do conjunto.\n",
    "\n",
    "#### Amostra\n",
    "\n",
    "$\n",
    "S^2 = \\frac{1}{n - 1} * \\sum_{i=1}^{n}(x_{i} - \\bar{x})^2 \n",
    "= \\frac{1}{n - 1} * (\\sum_{i=1}^{n}(x_{i})^2 - \\frac{(\\sum_{i=1}^{n}x_i)^2}{n})\n",
    "$\n",
    "\n",
    "Exemplo: Considere a seguinte amostra de dados: 1, 3, 5, 7 e 9. Determine o valor da\n",
    "variância"
   ]
  },
  {
   "cell_type": "code",
   "execution_count": 8,
   "id": "bca2f48d-38e1-4725-860c-31e33c050549",
   "metadata": {},
   "outputs": [
    {
     "name": "stdout",
     "output_type": "stream",
     "text": [
      "10.0\n"
     ]
    }
   ],
   "source": [
    "dados = list(range(1,10,2))\n",
    "n = len(dados)\n",
    "media = sum(dados) / n\n",
    "desvio_quadratico_total = sum([(media - dado)**2 for dado in dados])\n",
    "\n",
    "variancia_amostra = (desvio_quadratico_total) / (n - 1)\n",
    "\n",
    "print(variancia_amostra)"
   ]
  },
  {
   "cell_type": "code",
   "execution_count": 10,
   "id": "9429177a-5bb7-494d-a31d-e6c7630f716d",
   "metadata": {},
   "outputs": [
    {
     "name": "stdout",
     "output_type": "stream",
     "text": [
      "10.0\n"
     ]
    }
   ],
   "source": [
    "dados = list(range(1,10,2))\n",
    "dados_quadrado = [dado**2 for dado in dados]\n",
    "n = len(dados)\n",
    "\n",
    "variancia_amostra = (sum(dados_quadrado) - ((sum(dados))**2 / n)) / (n - 1)\n",
    "\n",
    "print(variancia_amostra)"
   ]
  },
  {
   "cell_type": "markdown",
   "id": "ad82a74f-3782-4c91-88f7-ea691de08586",
   "metadata": {},
   "source": [
    "### Dados Agrupados\n",
    "\n",
    "Quando os dados estão **dispostos em distribuição de frequência**, levam em \n",
    "consideração o **ponto médio** da classe e a **frequência absoluta**. Tecnicamente,\n",
    "supõe-se que o ponto médio de cada classe é um bom representante dos dados de cada\n",
    "classe.\n",
    "\n",
    "Seja:\n",
    "\n",
    "- $f_i$ = frequência absoluta da classe;\n",
    "- $\\bar{x}$ = ponto médio da classe. \n",
    "\n",
    "#### População\n",
    "\n",
    "$\n",
    "S^2 = \\frac{1}{n}\\times\\sum_{i=1}^{n}f_{i}(x_i - \\bar{x})^2\n",
    "= \\frac{1}{n}\\times[\\sum_{i=1}^{n}x_{i}^2f_{i} - \\frac{(\\sum_{i=1}^{n}x_{i}f_{i})^2}{n}]\n",
    "$\n",
    "\n",
    "#### Amostra\n",
    "\n",
    "$\n",
    "S^2 = \\frac{1}{n - 1}\\times\\sum_{i=1}^{n}f_{i}(x_i - \\bar{x})^2\n",
    "= \\frac{1}{n - 1}\\times[\\sum_{i=1}^{n}x_{i}^2f_{i} - \\frac{(\\sum_{i=1}^{n}x_{i}f_{i})^2}{n}]\n",
    "$\n",
    "\n",
    "Exemplo: Considere os dados sobre o peso (em kg) de uma amostra de \n",
    "recém-nascidos de certa maternidade dispostos na distribuição de frequência\n",
    "a seguir e calcule a média.\n",
    "\n",
    "| Classe    | Frequência Absoluta ($F_i$) |\n",
    "| --------- | --------------------------- |\n",
    "| 2.0 ⊢ 2.5 | 2                           |\n",
    "| 2.5 ⊢ 3.0 | 4                           |\n",
    "| 3.0 ⊢ 3.5 | 7                           |\n",
    "| 3.5 ⊢ 4.0 | 5                           |\n",
    "| 4.0 ⊢ 4.5 | 5                           |\n",
    "| 4.5 ⊢ 5.0 | 7                           |\n",
    "| Soma      | 30                          |"
   ]
  },
  {
   "cell_type": "code",
   "execution_count": 42,
   "id": "c7c82f81-9d3b-4719-94d3-f6c546ac70dc",
   "metadata": {},
   "outputs": [
    {
     "name": "stdout",
     "output_type": "stream",
     "text": [
      "media = 3.72\n",
      "variancia = 0.637\n"
     ]
    }
   ],
   "source": [
    "tabela = {\n",
    " (2.0, 2.5): 2,\n",
    " (2.5, 3.0): 4,\n",
    " (3.0, 3.5): 7,\n",
    " (3.5, 4.0): 5,\n",
    " (4.0, 4.5): 5,\n",
    " (4.5, 5.0): 7,\n",
    "}\n",
    "\n",
    "n = sum([frequencias for frequencias in tabela.values()])\n",
    "ponto_medio = lambda limite_inferior, limite_superior: (limite_superior + limite_inferior) / 2\n",
    "media = sum([ponto_medio(li,ls)*freq for (li,ls), freq in tabela.items()]) / n\n",
    "somatorio = sum([((media - ponto_medio(li,ls))**2)*freq for (li,ls), freq in tabela.items()])\n",
    "\n",
    "variancia_amostra = somatorio / (n - 1)\n",
    "\n",
    "print(f\"media = {round(media, 2)}\")\n",
    "print(f\"variancia = {round(variancia_amostra, 3)}\")"
   ]
  },
  {
   "cell_type": "markdown",
   "id": "39e2e5ee-a434-4c2e-baf5-1daaf925c866",
   "metadata": {},
   "source": [
    "## Desvio Padrão ($S$)\n",
    "\n",
    "O desvio-padrão é uma medida de variabilidade dos dados em torno da média e é\n",
    "definido como sendo a raiz quadrada da variância (isso serve para deixar os\n",
    "dados e a medida na mesma unidade).\n",
    "\n",
    "### Dados Agrupados\n",
    "\n",
    "$\n",
    "S = \\sqrt{\\frac{1}{n - 1}\\times\\sum_{i=1}^{n}f_{i}(x_i - \\bar{x})^2}\n",
    "= \\sqrt{\\frac{1}{n - 1}\\times[\\sum_{i=1}^{n}x_{i}^2f_{i} - \\frac{(\\sum_{i=1}^{n}x_{i}f_{i})^2}{n}]}\n",
    "= \\sqrt{S^2}\n",
    "$\n",
    "\n",
    "Continuando com o exemplo do peso dos recém-nascidos:"
   ]
  },
  {
   "cell_type": "code",
   "execution_count": 46,
   "id": "1f0114ec-de90-4ac5-87fc-bc87a10c2ce9",
   "metadata": {},
   "outputs": [
    {
     "name": "stdout",
     "output_type": "stream",
     "text": [
      "media = 3.72\n",
      "variancia = 0.637\n",
      "desvio padrao = 0.798\n",
      "\n",
      "\n",
      "Conclusão: O peso médio dos recém nascidos é de 3.72kg e, dentro da amostra, esse peso normalmente varia entre 2.92kg e 4.51kg\n"
     ]
    }
   ],
   "source": [
    "desvio_padrao = variancia_amostra ** 0.5\n",
    "\n",
    "print(f\"media = {round(media, 2)}\")\n",
    "print(f\"variancia = {round(variancia_amostra, 3)}\")\n",
    "print(f\"desvio padrao = {round(desvio_padrao, 3)}\")\n",
    "print('\\n')\n",
    "print(f'Conclusão: O peso médio dos recém nascidos é de {round(media, 2)}kg e, dentro da amostra, esse peso normalmente varia entre {round(media - desvio_padrao, 2)}kg e {round(media + desvio_padrao, 2)}kg')"
   ]
  }
 ],
 "metadata": {
  "kernelspec": {
   "display_name": "Python 3 (ipykernel)",
   "language": "python",
   "name": "python3"
  },
  "language_info": {
   "codemirror_mode": {
    "name": "ipython",
    "version": 3
   },
   "file_extension": ".py",
   "mimetype": "text/x-python",
   "name": "python",
   "nbconvert_exporter": "python",
   "pygments_lexer": "ipython3",
   "version": "3.10.12"
  }
 },
 "nbformat": 4,
 "nbformat_minor": 5
}
